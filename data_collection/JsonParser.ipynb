{
 "metadata": {
  "name": ""
 },
 "nbformat": 3,
 "nbformat_minor": 0,
 "worksheets": [
  {
   "cells": [
    {
     "cell_type": "code",
     "collapsed": false,
     "input": [
      "import json, requests\n",
      "from pprint import pprint\n",
      "\n",
      "file_directory=\"municipalities-topo.json\"\n",
      "file_directory_tokyo=\"air/public/data/tokyo-topo.json\"\n",
      "\n",
      "json_data_tokyo=open(file_directory_tokyo).read()\n",
      "json_data=open(file_directory).read()\n",
      "data = json.loads(json_data)\n",
      "data_tokyo=json.loads(json_data_tokyo)"
     ],
     "language": "python",
     "metadata": {},
     "outputs": [],
     "prompt_number": 32
    },
    {
     "cell_type": "code",
     "collapsed": false,
     "input": [
      "#set up a bounding box to frame map\n",
      "seoul_bounding_box=[126.4303,37.1423,127.185,37.7014]\n",
      "data[\"bbox\"]= seoul_bounding_box"
     ],
     "language": "python",
     "metadata": {},
     "outputs": [],
     "prompt_number": 36
    },
    {
     "cell_type": "code",
     "collapsed": false,
     "input": [
      "#delete all except Gyeong-gi, Incheon and Seoul municipalities\n",
      "for d in data[\"objects\"][\"main\"][\"geometries\"][:]:\n",
      "        if d[\"properties\"][\"ID_1\"] != 15:\n",
      "            if d[\"properties\"][\"ID_1\"] != 8:\n",
      "                if d[\"properties\"][\"ID_1\"] != 11:\n",
      "                    data[\"objects\"][\"main\"][\"geometries\"].remove(d)\n",
      "   "
     ],
     "language": "python",
     "metadata": {},
     "outputs": [
      {
       "output_type": "stream",
       "stream": "stdout",
       "text": [
        "{u'type': u'Polygon', u'properties': {u'NAME_2': u'Ansan', u'NAME_0': u'South Korea', u'NAME_1': u'Gyeonggi-do', u'VARNAME_2': None, u'NL_NAME_2': u'???| ???', u'ID_2': 78, u'TYPE_2': u'Si', u'ID_0': 211, u'ID_1': 8, u'ISO': u'KOR', u'ENGTYPE_2': u'City'}, u'arcs': [[552, 553, 554, 555, 556]]}\n",
        "{u'type': u'Polygon', u'properties': {u'NAME_2': u'Ansoeng', u'NAME_0': u'South Korea', u'NAME_1': u'Gyeonggi-do', u'VARNAME_2': None, u'NL_NAME_2': u'???| ???', u'ID_2': 79, u'TYPE_2': u'Si', u'ID_0': 211, u'ID_1': 8, u'ISO': u'KOR', u'ENGTYPE_2': u'City'}, u'arcs': [[557, -201, -212, -246, 558, 559]]}\n",
        "{u'type': u'Polygon', u'properties': {u'NAME_2': u'Anyang', u'NAME_0': u'South Korea', u'NAME_1': u'Gyeonggi-do', u'VARNAME_2': None, u'NL_NAME_2': u'???| ???', u'ID_2': 80, u'TYPE_2': u'Si', u'ID_0': 211, u'ID_1': 8, u'ISO': u'KOR', u'ENGTYPE_2': u'City'}, u'arcs': [[560, 561, 562, 563, -553, 564, 565, -19]]}\n",
        "{u'type': u'Polygon', u'properties': {u'NAME_2': u'Bucheon', u'NAME_0': u'South Korea', u'NAME_1': u'Gyeonggi-do', u'VARNAME_2': None, u'NL_NAME_2': u'???| ???', u'ID_2': 81, u'TYPE_2': u'Si', u'ID_0': 211, u'ID_1': 8, u'ISO': u'KOR', u'ENGTYPE_2': u'City'}, u'arcs': [[-70, -15, 566, 567, 568, -4]]}\n",
        "{u'type': u'Polygon', u'properties': {u'NAME_2': u'Dongducheon', u'NAME_0': u'South Korea', u'NAME_1': u'Gyeonggi-do', u'VARNAME_2': None, u'NL_NAME_2': u'????| ????', u'ID_2': 82, u'TYPE_2': u'Si', u'ID_0': 211, u'ID_1': 8, u'ISO': u'KOR', u'ENGTYPE_2': u'City'}, u'arcs': [[569, 570, 571]]}\n",
        "{u'type': u'Polygon', u'properties': {u'NAME_2': u'Gapyeong', u'NAME_0': u'South Korea', u'NAME_1': u'Gyeonggi-do', u'VARNAME_2': None, u'NL_NAME_2': u'???| ???', u'ID_2': 83, u'TYPE_2': u'Gun', u'ID_0': 211, u'ID_1': 8, u'ISO': u'KOR', u'ENGTYPE_2': u'County'}, u'arcs': [[-513, -482, -509, 572, 573, 574]]}\n",
        "{u'type': u'MultiPolygon', u'properties': {u'NAME_2': u'Gimpo', u'NAME_0': u'South Korea', u'NAME_1': u'Gyeonggi-do', u'VARNAME_2': None, u'NL_NAME_2': u'???| ???', u'ID_2': 84, u'TYPE_2': u'Si', u'ID_0': 211, u'ID_1': 8, u'ISO': u'KOR', u'ENGTYPE_2': u'City'}, u'arcs': [[[575]], [[576, -6, 577, 578, 579, 580]]]}\n",
        "{u'type': u'Polygon', u'properties': {u'NAME_2': u'Goyang', u'NAME_0': u'South Korea', u'NAME_1': u'Gyeonggi-do', u'VARNAME_2': None, u'NL_NAME_2': u'???| ???', u'ID_2': 85, u'TYPE_2': u'Si', u'ID_0': 211, u'ID_1': 8, u'ISO': u'KOR', u'ENGTYPE_2': u'City'}, u'arcs': [[581, 582, 583, -46, -7, -577, 584]]}\n",
        "{u'type': u'Polygon', u'properties': {u'NAME_2': u'Gunpo', u'NAME_0': u'South Korea', u'NAME_1': u'Gyeonggi-do', u'VARNAME_2': None, u'NL_NAME_2': u'???| ???', u'ID_2': 86, u'TYPE_2': u'Si', u'ID_0': 211, u'ID_1': 8, u'ISO': u'KOR', u'ENGTYPE_2': u'City'}, u'arcs': [[585, 586, 587, -563]]}\n",
        "{u'type': u'Polygon', u'properties': {u'NAME_2': u'Guri', u'NAME_0': u'South Korea', u'NAME_1': u'Gyeonggi-do', u'VARNAME_2': None, u'NL_NAME_2': u'???| ???', u'ID_2': 87, u'TYPE_2': u'Si', u'ID_0': 211, u'ID_1': 8, u'ISO': u'KOR', u'ENGTYPE_2': u'City'}, u'arcs': [[588, 589, 590, -22, -39, -49]]}\n",
        "{u'type': u'Polygon', u'properties': {u'NAME_2': u'Gwacheon', u'NAME_0': u'South Korea', u'NAME_1': u'Gyeonggi-do', u'VARNAME_2': None, u'NL_NAME_2': u'???| ???', u'ID_2': 88, u'TYPE_2': u'Si', u'ID_0': 211, u'ID_1': 8, u'ISO': u'KOR', u'ENGTYPE_2': u'City'}, u'arcs': [[-56, 591, 592, -561, -18]]}\n",
        "{u'type': u'Polygon', u'properties': {u'NAME_2': u'Gwangju', u'NAME_0': u'South Korea', u'NAME_1': u'Gyeonggi-do', u'VARNAME_2': None, u'NL_NAME_2': u'???| ???', u'ID_2': 89, u'TYPE_2': u'Si', u'ID_0': 211, u'ID_1': 8, u'ISO': u'KOR', u'ENGTYPE_2': u'City'}, u'arcs': [[593, 594, 595, 596, 597, 598, 599]]}\n",
        "{u'type': u'Polygon', u'properties': {u'NAME_2': u'Gwangmyeong', u'NAME_0': u'South Korea', u'NAME_1': u'Gyeonggi-do', u'VARNAME_2': None, u'NL_NAME_2': u'???| ???', u'ID_2': 90, u'TYPE_2': u'Si', u'ID_0': 211, u'ID_1': 8, u'ISO': u'KOR', u'ENGTYPE_2': u'City'}, u'arcs': [[-9, -20, -566, 600, -13]]}\n",
        "{u'type': u'Polygon', u'properties': {u'NAME_2': u'Hanam', u'NAME_0': u'South Korea', u'NAME_1': u'Gyeonggi-do', u'VARNAME_2': None, u'NL_NAME_2': u'???| ???', u'ID_2': 91, u'TYPE_2': u'Si', u'ID_0': 211, u'ID_1': 8, u'ISO': u'KOR', u'ENGTYPE_2': u'City'}, u'arcs': [[601, -599, 602, -66, 603, -590]]}\n",
        "{u'type': u'MultiPolygon', u'properties': {u'NAME_2': u'Hwaseong', u'NAME_0': u'South Korea', u'NAME_1': u'Gyeonggi-do', u'VARNAME_2': None, u'NL_NAME_2': u'???| ???', u'ID_2': 92, u'TYPE_2': u'Si', u'ID_0': 211, u'ID_1': 8, u'ISO': u'KOR', u'ENGTYPE_2': u'City'}, u'arcs': [[[604]], [[605]], [[606]], [[607]], [[608]], [[609]], [[610]], [[611]], [[612]], [[613]], [[614]], [[615]], [[616]], [[617]], [[618]], [[619]], [[620]], [[621]], [[622, 623]], [[624, -555]], [[-554, -564, -588, 625, 626, 627, 628, 629, 630]]]}\n",
        "{u'type': u'Polygon', u'properties': {u'NAME_2': u'Icheon', u'NAME_0': u'South Korea', u'NAME_1': u'Gyeonggi-do', u'VARNAME_2': None, u'NL_NAME_2': u'???| ???', u'ID_2': 93, u'TYPE_2': u'Si', u'ID_0': 211, u'ID_1': 8, u'ISO': u'KOR', u'ENGTYPE_2': u'City'}, u'arcs': [[631, -202, -558, 632, -596]]}\n",
        "{u'type': u'Polygon', u'properties': {u'NAME_2': u'Namyangju', u'NAME_0': u'South Korea', u'NAME_1': u'Gyeonggi-do', u'VARNAME_2': None, u'NL_NAME_2': u'????| ????', u'ID_2': 94, u'TYPE_2': u'Si', u'ID_0': 211, u'ID_1': 8, u'ISO': u'KOR', u'ENGTYPE_2': u'City'}, u'arcs': [[-574, 633, -600, -602, -589, -48, 634, 635]]}\n",
        "{u'type': u'Polygon', u'properties': {u'NAME_2': u'Osan', u'NAME_0': u'South Korea', u'NAME_1': u'Gyeonggi-do', u'VARNAME_2': None, u'NL_NAME_2': u'???| ???', u'ID_2': 95, u'TYPE_2': u'Si', u'ID_0': 211, u'ID_1': 8, u'ISO': u'KOR', u'ENGTYPE_2': u'City'}, u'arcs': [[-629, 636]]}\n",
        "{u'type': u'Polygon', u'properties': {u'NAME_2': u'Paju', u'NAME_0': u'South Korea', u'NAME_1': u'Gyeonggi-do', u'VARNAME_2': None, u'NL_NAME_2': u'???| ???', u'ID_2': 96, u'TYPE_2': u'Si', u'ID_0': 211, u'ID_1': 8, u'ISO': u'KOR', u'ENGTYPE_2': u'City'}, u'arcs': [[637, -585, -581, 638, 639]]}\n",
        "{u'type': u'Polygon', u'properties': {u'NAME_2': u'Pocheon', u'NAME_0': u'South Korea', u'NAME_1': u'Gyeonggi-do', u'VARNAME_2': None, u'NL_NAME_2': u'???| ???', u'ID_2': 97, u'TYPE_2': u'Si', u'ID_0': 211, u'ID_1': 8, u'ISO': u'KOR', u'ENGTYPE_2': u'City'}, u'arcs': [[-475, -514, -575, -636, 640, 641, -570, 642]]}\n",
        "{u'type': u'Polygon', u'properties': {u'NAME_2': u'Pyeongtaek', u'NAME_0': u'South Korea', u'NAME_1': u'Gyeonggi-do', u'VARNAME_2': None, u'NL_NAME_2': u'???| ???', u'ID_2': 98, u'TYPE_2': u'Si', u'ID_0': 211, u'ID_1': 8, u'ISO': u'KOR', u'ENGTYPE_2': u'City'}, u'arcs': [[-628, 643, -559, -249, -225, 644, -630, -637]]}\n",
        "{u'type': u'Polygon', u'properties': {u'NAME_2': u'Seongnam', u'NAME_0': u'South Korea', u'NAME_1': u'Gyeonggi-do', u'VARNAME_2': None, u'NL_NAME_2': u'???| ???', u'ID_2': 99, u'TYPE_2': u'Si', u'ID_0': 211, u'ID_1': 8, u'ISO': u'KOR', u'ENGTYPE_2': u'City'}, u'arcs': [[-598, 645, 646, -592, -55, 647, -67, -603]]}\n",
        "{u'type': u'MultiPolygon', u'properties': {u'NAME_2': u'Siheung', u'NAME_0': u'South Korea', u'NAME_1': u'Gyeonggi-do', u'VARNAME_2': None, u'NL_NAME_2': u'???| ???', u'ID_2': 100, u'TYPE_2': u'Si', u'ID_0': 211, u'ID_1': 8, u'ISO': u'KOR', u'ENGTYPE_2': u'City'}, u'arcs': [[[648]], [[-601, -565, -557, 649, -623, 650, 651, 652, -567, -14]]]}\n",
        "{u'type': u'Polygon', u'properties': {u'NAME_2': u'Suwon', u'NAME_0': u'South Korea', u'NAME_1': u'Gyeonggi-do', u'VARNAME_2': None, u'NL_NAME_2': u'???| ???', u'ID_2': 101, u'TYPE_2': u'Si', u'ID_0': 211, u'ID_1': 8, u'ISO': u'KOR', u'ENGTYPE_2': u'City'}, u'arcs': [[653, -626, -587, 654]]}\n",
        "{u'type': u'Polygon', u'properties': {u'NAME_2': u'Uijeongbu', u'NAME_0': u'South Korea', u'NAME_1': u'Gyeonggi-do', u'VARNAME_2': None, u'NL_NAME_2': u'????| ????', u'ID_2': 102, u'TYPE_2': u'Si', u'ID_0': 211, u'ID_1': 8, u'ISO': u'KOR', u'ENGTYPE_2': u'City'}, u'arcs': [[-635, -53, 655, 656, -641]]}\n",
        "{u'type': u'Polygon', u'properties': {u'NAME_2': u'Uiwang', u'NAME_0': u'South Korea', u'NAME_1': u'Gyeonggi-do', u'VARNAME_2': None, u'NL_NAME_2': u'???| ???', u'ID_2': 103, u'TYPE_2': u'Si', u'ID_0': 211, u'ID_1': 8, u'ISO': u'KOR', u'ENGTYPE_2': u'City'}, u'arcs': [[-647, 657, -655, -586, -562, -593]]}\n",
        "{u'type': u'Polygon', u'properties': {u'NAME_2': u'Yangju', u'NAME_0': u'South Korea', u'NAME_1': u'Gyeonggi-do', u'VARNAME_2': None, u'NL_NAME_2': u'???| ???', u'ID_2': 104, u'TYPE_2': u'Si', u'ID_0': 211, u'ID_1': 8, u'ISO': u'KOR', u'ENGTYPE_2': u'City'}, u'arcs': [[-571, -642, -657, 658, 659, -582, -638, 660]]}\n",
        "{u'type': u'Polygon', u'properties': {u'NAME_2': u'Yangpyeong', u'NAME_0': u'South Korea', u'NAME_1': u'Gyeonggi-do', u'VARNAME_2': None, u'NL_NAME_2': u'???| ???', u'ID_2': 105, u'TYPE_2': u'Gun', u'ID_0': 211, u'ID_1': 8, u'ISO': u'KOR', u'ENGTYPE_2': u'County'}, u'arcs': [[-508, -506, -536, 661, -594, -634, -573]]}\n",
        "{u'type': u'Polygon', u'properties': {u'NAME_2': u'Yeoju', u'NAME_0': u'South Korea', u'NAME_1': u'Gyeonggi-do', u'VARNAME_2': None, u'NL_NAME_2': u'???| ???', u'ID_2': 106, u'TYPE_2': u'Gun', u'ID_0': 211, u'ID_1': 8, u'ISO': u'KOR', u'ENGTYPE_2': u'County'}, u'arcs': [[-662, -535, -192, -203, -632, -595]]}\n",
        "{u'type': u'MultiPolygon', u'properties': {u'NAME_2': u'Yeoncheon', u'NAME_0': u'South Korea', u'NAME_1': u'Gyeonggi-do', u'VARNAME_2': None, u'NL_NAME_2': u'???| ???', u'ID_2': 107, u'TYPE_2': u'Gun', u'ID_0': 211, u'ID_1': 8, u'ISO': u'KOR', u'ENGTYPE_2': u'County'}, u'arcs': [[[-476, -643, -572, -661, -640, 662]], [[663, -477]]]}\n",
        "{u'type': u'Polygon', u'properties': {u'NAME_2': u'Yongin', u'NAME_0': u'South Korea', u'NAME_1': u'Gyeonggi-do', u'VARNAME_2': None, u'NL_NAME_2': u'???| ???', u'ID_2': 108, u'TYPE_2': u'Si', u'ID_0': 211, u'ID_1': 8, u'ISO': u'KOR', u'ENGTYPE_2': u'City'}, u'arcs': [[-597, -633, -560, -644, -627, -654, -658, -646]]}\n",
        "{u'type': u'Polygon', u'properties': {u'NAME_2': u'Bupyeong', u'NAME_0': u'South Korea', u'NAME_1': u'Incheon', u'VARNAME_2': None, u'NL_NAME_2': u'???| ???', u'ID_2': 152, u'TYPE_2': u'Gu', u'ID_0': 211, u'ID_1': 11, u'ISO': u'KOR', u'ENGTYPE_2': u'District'}, u'arcs': [[-568, -653, 1008, 1009, 1010, 1011]]}\n",
        "{u'type': u'Polygon', u'properties': {u'NAME_2': u'Dong', u'NAME_0': u'South Korea', u'NAME_1': u'Incheon', u'VARNAME_2': None, u'NL_NAME_2': u'??|??', u'ID_2': 153, u'TYPE_2': u'Gu', u'ID_0': 211, u'ID_1': 11, u'ISO': u'KOR', u'ENGTYPE_2': u'District'}, u'arcs': [[1012, 1013, 1014, 1015]]}\n",
        "{u'type': u'MultiPolygon', u'properties': {u'NAME_2': u'Ganghwa', u'NAME_0': u'South Korea', u'NAME_1': u'Incheon', u'VARNAME_2': None, u'NL_NAME_2': u'???| ???', u'ID_2': 154, u'TYPE_2': u'Gun', u'ID_0': 211, u'ID_1': 11, u'ISO': u'KOR', u'ENGTYPE_2': u'County'}, u'arcs': [[[1016]], [[1017]], [[1018]], [[1019]], [[1020]], [[1021]], [[1022]], [[1023]], [[1024]], [[1025]], [[1026]], [[1027]], [[1028]], [[1029]], [[1030]], [[1031]], [[1032]], [[1033]], [[1034]], [[1035]], [[1036]], [[1037]], [[1038]], [[1039]], [[1040]], [[1041]], [[1042]], [[1043]], [[1044]]]}\n",
        "{u'type': u'Polygon', u'properties': {u'NAME_2': u'Gyeyang', u'NAME_0': u'South Korea', u'NAME_1': u'Incheon', u'VARNAME_2': None, u'NL_NAME_2': u'???| ???', u'ID_2': 155, u'TYPE_2': u'Gu', u'ID_0': 211, u'ID_1': 11, u'ISO': u'KOR', u'ENGTYPE_2': u'District'}, u'arcs': [[-5, -569, -1012, 1045, -578]]}\n",
        "{u'type': u'MultiPolygon', u'properties': {u'NAME_2': u'Jung', u'NAME_0': u'South Korea', u'NAME_1': u'Incheon', u'VARNAME_2': None, u'NL_NAME_2': u'??| ??', u'ID_2': 156, u'TYPE_2': u'Gu', u'ID_0': 211, u'ID_1': 11, u'ISO': u'KOR', u'ENGTYPE_2': u'District'}, u'arcs': [[[-169, 1046]], [[1047, -162, -115]], [[1048]], [[1049]], [[1050]], [[1051]], [[1052]], [[1053, 1054, -1016]], [[1055]], [[1056]], [[1057]], [[1058]], [[1059]], [[1060, 1061, 1062]]]}\n",
        "{u'type': u'Polygon', u'properties': {u'NAME_2': u'Nam', u'NAME_0': u'South Korea', u'NAME_1': u'Incheon', u'VARNAME_2': None, u'NL_NAME_2': u'??| ??', u'ID_2': 157, u'TYPE_2': u'Gu', u'ID_0': 211, u'ID_1': 11, u'ISO': u'KOR', u'ENGTYPE_2': u'District'}, u'arcs': [[-1015, 1063, -1010, 1064, 1065, 1066, -1054]]}\n",
        "{u'type': u'MultiPolygon', u'properties': {u'NAME_2': u'Namdong', u'NAME_0': u'South Korea', u'NAME_1': u'Incheon', u'VARNAME_2': None, u'NL_NAME_2': u'???| ???', u'ID_2': 158, u'TYPE_2': u'Gu', u'ID_0': 211, u'ID_1': 11, u'ISO': u'KOR', u'ENGTYPE_2': u'District'}, u'arcs': [[[1067]], [[-652, 1068, 1069, -1065, -1009]]]}\n",
        "{u'type': u'MultiPolygon', u'properties': {u'NAME_2': u'Ongjin', u'NAME_0': u'South Korea', u'NAME_1': u'Incheon', u'VARNAME_2': None, u'NL_NAME_2': u'???| ???', u'ID_2': 159, u'TYPE_2': u'Gun', u'ID_0': 211, u'ID_1': 11, u'ISO': u'KOR', u'ENGTYPE_2': u'County'}, u'arcs': [[[1070]], [[1071]], [[1072]], [[1073]], [[1074]], [[1075]], [[1076]], [[1077]], [[1078]], [[1079]], [[1080]], [[1081]], [[1082]], [[1083]], [[1084]], [[1085]], [[1086]], [[1087]], [[1088]], [[1089]], [[1090]], [[1091]], [[1092]], [[1093]], [[1094]], [[1095]], [[1096]], [[1097]], [[1098]], [[1099]], [[1100]], [[1101]], [[1102]], [[1103]], [[1104]], [[1105]], [[1106]], [[1107]], [[1108]], [[1109]], [[1110]], [[1111]], [[1112]], [[1113]], [[1114]], [[1115]], [[1116]], [[1117]], [[1118]], [[1119]], [[1120]], [[1121]], [[1122]], [[1123]], [[1124]], [[1125]], [[1126]], [[1127]], [[1128]], [[1129]], [[1130]], [[1131]], [[1132]], [[1133]], [[1134]], [[1135]], [[1136]]]}\n",
        "{u'type': u'MultiPolygon', u'properties': {u'NAME_2': u'Seo', u'NAME_0': u'South Korea', u'NAME_1': u'Incheon', u'VARNAME_2': None, u'NL_NAME_2': u'??| ??', u'ID_2': 160, u'TYPE_2': u'Gu', u'ID_0': 211, u'ID_1': 11, u'ISO': u'KOR', u'ENGTYPE_2': u'District'}, u'arcs': [[[-1061, 1137, 1138]], [[1139, 1140, -579, -1046, -1011, -1064, -1014, 1141, -1062]]]}\n",
        "{u'type': u'Polygon', u'properties': {u'NAME_2': u'Yeonsu', u'NAME_0': u'South Korea', u'NAME_1': u'Incheon', u'VARNAME_2': None, u'NL_NAME_2': u'???| ???', u'ID_2': 161, u'TYPE_2': u'Gu', u'ID_0': 211, u'ID_1': 11, u'ISO': u'KOR', u'ENGTYPE_2': u'District'}, u'arcs': [[1142, 1143, -1066]]}\n"
       ]
      }
     ],
     "prompt_number": 35
    },
    {
     "cell_type": "code",
     "collapsed": false,
     "input": [
      "with open('air/public/data/seoul-topo.json', 'w') as outfile:\n",
      "        json.dump(data, outfile)"
     ],
     "language": "python",
     "metadata": {},
     "outputs": [],
     "prompt_number": 37
    }
   ],
   "metadata": {}
  }
 ]
}